{
 "cells": [
  {
   "cell_type": "code",
   "execution_count": 1,
   "metadata": {
    "collapsed": true
   },
   "outputs": [],
   "source": [
    "import numpy as np\n",
    "from random import randint\n",
    "from numpy import genfromtxt"
   ]
  },
  {
   "cell_type": "code",
   "execution_count": 2,
   "metadata": {
    "collapsed": true
   },
   "outputs": [],
   "source": [
    "target_test_yelp = genfromtxt('./Bin_BoW/yelp/target_test_yelp_bin.txt', delimiter=',')\n",
    "\n",
    "target_train_yelp = genfromtxt('./Bin_BoW/yelp/target_training_yelp_bin.txt', delimiter=',')"
   ]
  },
  {
   "cell_type": "code",
   "execution_count": 5,
   "metadata": {
    "collapsed": true
   },
   "outputs": [],
   "source": [
    "yelp_test_examples=target_test_yelp.size\n",
    "Y_out_yelp=np.zeros(yelp_test_examples)"
   ]
  },
  {
   "cell_type": "code",
   "execution_count": 13,
   "metadata": {},
   "outputs": [
    {
     "name": "stdout",
     "output_type": "stream",
     "text": [
      "The most frequent class in yelp training set:\n",
      "4\n"
     ]
    }
   ],
   "source": [
    "target_train_yelp=target_train_yelp.astype(int)\n",
    "counts = np.bincount(target_train_yelp)\n",
    "print \"The most frequent class in yelp training set:\"\n",
    "print np.argmax(counts)\n",
    "\n",
    "for i in range(yelp_test_examples):\n",
    "    Y_out_yelp[i]=np.argmax(counts)"
   ]
  },
  {
   "cell_type": "code",
   "execution_count": 12,
   "metadata": {},
   "outputs": [
    {
     "name": "stdout",
     "output_type": "stream",
     "text": [
      "F-measure yelp Majority classifier:\n",
      "0.103961495742\n"
     ]
    },
    {
     "name": "stderr",
     "output_type": "stream",
     "text": [
      "/home/an80020/anaconda2/lib/python2.7/site-packages/sklearn/metrics/classification.py:1137: UndefinedMetricWarning: F-score is ill-defined and being set to 0.0 in labels with no true samples.\n",
      "  'recall', 'true', average, warn_for)\n"
     ]
    }
   ],
   "source": [
    "from sklearn import metrics\n",
    "print \"F-measure yelp Majority classifier:\"\n",
    "print metrics.f1_score(Y_out_yelp, target_test_yelp, average='macro')"
   ]
  }
 ],
 "metadata": {
  "kernelspec": {
   "display_name": "Python 2",
   "language": "python",
   "name": "python2"
  },
  "language_info": {
   "codemirror_mode": {
    "name": "ipython",
    "version": 2
   },
   "file_extension": ".py",
   "mimetype": "text/x-python",
   "name": "python",
   "nbconvert_exporter": "python",
   "pygments_lexer": "ipython2",
   "version": "2.7.14"
  }
 },
 "nbformat": 4,
 "nbformat_minor": 2
}

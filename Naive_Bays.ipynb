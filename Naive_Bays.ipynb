{
 "cells": [
  {
   "cell_type": "code",
   "execution_count": 2,
   "metadata": {
    "collapsed": true
   },
   "outputs": [],
   "source": [
    "import numpy as np\n",
    "import pandas as pd\n",
    "\n",
    "from sklearn.naive_bayes import BernoulliNB\n",
    "from sklearn.naive_bayes import GaussianNB\n",
    "\n",
    "from sklearn import metrics\n",
    "from numpy import genfromtxt"
   ]
  },
  {
   "cell_type": "code",
   "execution_count": null,
   "metadata": {
    "collapsed": true
   },
   "outputs": [],
   "source": [
    "# Load yelp Binary BOW\n",
    "\n",
    "training_yelp_feat_bin= genfromtxt('./Bin_BoW/yelp/trainig_yelp_feat_bin.txt', delimiter=',')\n",
    "target_training_yelp_bin= genfromtxt('./Bin_BoW/yelp/target_training_yelp_bin.txt', delimiter=',')\n",
    "\n",
    "test_yelp_feat_bin= genfromtxt('./Bin_BoW/yelp/test_yelp_feat_bin.txt', delimiter=',')\n",
    "target_test_yelp_bin= genfromtxt('./Bin_BoW/yelp/target_test_yelp_bin.txt', delimiter=',')\n",
    "\n",
    "valid_yelp_feat_bin= genfromtxt('./Bin_BoW/yelp/valid_yelp_feat_bin.txt', delimiter=',')\n",
    "target_valid_yelp_bin= genfromtxt('./Bin_BoW/yelp/target_valid_yelp_bin.txt', delimiter=',')"
   ]
  },
  {
   "cell_type": "code",
   "execution_count": null,
   "metadata": {},
   "outputs": [],
   "source": [
    "BernNB=BernoulliNB(binarize=False)\n",
    "BernNB.fit(training_yelp_feat_bin,target_training_yelp_bin)\n",
    "print (BernNB)\n",
    "\n",
    "Y_out=BernNB.predict(training_yelp_feat_bin)\n",
    "print \"F-measure Training set_BernoulliNB_yelp:\"\n",
    "print metrics.f1_score(target_training_yelp_bin, Y_out, average='macro')\n",
    "\n",
    "Y_out=BernNB.predict(valid_yelp_feat_bin)\n",
    "print \"F-measure Validation set_BernoulliNB_yelp:\"\n",
    "print metrics.f1_score(target_valid_yelp_bin, Y_out, average='macro')\n",
    "\n",
    "Y_out=BernNB.predict(test_yelp_feat_bin)\n",
    "print \"F-measure test set_BernoulliNB_yelp:\"\n",
    "print metrics.f1_score(target_test_yelp_bin, Y_out, average='macro')"
   ]
  },
  {
   "cell_type": "code",
   "execution_count": 2,
   "metadata": {
    "collapsed": true
   },
   "outputs": [],
   "source": [
    "# Load IMDB Binary BOW\n",
    "\n",
    "training_IMDB_feat_bin= genfromtxt('./Bin_BoW/IMDB/trainig_IMDB_feat_bin.txt', delimiter=',')\n",
    "target_training_IMDB_bin= genfromtxt('./Bin_BoW/IMDB/target_training_IMDB_bin.txt', delimiter=',')"
   ]
  },
  {
   "cell_type": "code",
   "execution_count": 3,
   "metadata": {},
   "outputs": [
    {
     "name": "stdout",
     "output_type": "stream",
     "text": [
      "BernoulliNB(alpha=1.0, binarize=False, class_prior=None, fit_prior=True)\n",
      "F-measure Training set_BernoulliNB_IMDB:\n",
      "0.871129408575\n"
     ]
    }
   ],
   "source": [
    "BernNB=BernoulliNB(binarize=False)\n",
    "BernNB.fit(training_IMDB_feat_bin,target_training_IMDB_bin)\n",
    "print (BernNB)\n",
    "\n",
    "Y_out=BernNB.predict(training_IMDB_feat_bin)\n",
    "print \"F-measure Training set_BernoulliNB_IMDB:\"\n",
    "print metrics.f1_score(target_training_IMDB_bin, Y_out, average='macro')"
   ]
  },
  {
   "cell_type": "code",
   "execution_count": 4,
   "metadata": {
    "collapsed": true
   },
   "outputs": [],
   "source": [
    "import cPickle0\n",
    "# save the classifier\n",
    "with open('BernNB.pkl', 'wb') as fid:\n",
    "    cPickle.dump(BernNB, fid)    \n"
   ]
  },
  {
   "cell_type": "code",
   "execution_count": 2,
   "metadata": {
    "collapsed": true
   },
   "outputs": [],
   "source": [
    "import cPickle\n",
    "with open('BernNB.pkl', 'rb') as fid:\n",
    "    BernNB = cPickle.load(fid)"
   ]
  },
  {
   "cell_type": "code",
   "execution_count": 3,
   "metadata": {
    "collapsed": true
   },
   "outputs": [],
   "source": [
    "valid_IMDB_feat_bin= genfromtxt('./Bin_BoW/IMDB/valid_IMDB_feat_bin.txt', delimiter=',')\n",
    "target_valid_IMDB_bin= genfromtxt('./Bin_BoW/IMDB/target_valid_IMDB_bin.txt', delimiter=',')"
   ]
  },
  {
   "cell_type": "code",
   "execution_count": 4,
   "metadata": {},
   "outputs": [
    {
     "name": "stdout",
     "output_type": "stream",
     "text": [
      "F-measure Validation set_BernoulliNB_IMDB:\n",
      "0.843608659887\n"
     ]
    }
   ],
   "source": [
    "Y_out=BernNB.predict(valid_IMDB_feat_bin)\n",
    "print \"F-measure Validation set_BernoulliNB_IMDB:\"\n",
    "print metrics.f1_score(target_valid_IMDB_bin, Y_out, average='macro')"
   ]
  },
  {
   "cell_type": "code",
   "execution_count": 3,
   "metadata": {
    "collapsed": true
   },
   "outputs": [],
   "source": [
    "test_IMDB_feat_bin= genfromtxt('./Bin_BoW/IMDB/test_IMDB_feat_bin.txt', delimiter=',')\n",
    "target_test_IMDB_bin= genfromtxt('./Bin_BoW/IMDB/target_test_IMDB_bin.txt', delimiter=',')"
   ]
  },
  {
   "cell_type": "code",
   "execution_count": 4,
   "metadata": {},
   "outputs": [
    {
     "name": "stdout",
     "output_type": "stream",
     "text": [
      "F-measure test set_BernoulliNB_IMDB:\n",
      "0.830794858981\n"
     ]
    }
   ],
   "source": [
    "Y_out=BernNB.predict(test_IMDB_feat_bin)\n",
    "print \"F-measure test set_BernoulliNB_IMDB:\"\n",
    "print metrics.f1_score(target_test_IMDB_bin, Y_out, average='macro')"
   ]
  },
  {
   "cell_type": "code",
   "execution_count": 2,
   "metadata": {
    "collapsed": true
   },
   "outputs": [],
   "source": [
    "# Load yelp freqary BOW\n",
    "\n",
    "training_yelp_feat_freq= genfromtxt('./freq_BoW/yelp/trainig_yelp_feat_freq.txt', delimiter=',')\n",
    "target_training_yelp_freq= genfromtxt('./freq_BoW/yelp/target_training_yelp_freq.txt', delimiter=',')\n",
    "\n",
    "test_yelp_feat_freq= genfromtxt('./freq_BoW/yelp/test_yelp_feat_freq.txt', delimiter=',')\n",
    "target_test_yelp_freq= genfromtxt('./freq_BoW/yelp/target_test_yelp_freq.txt', delimiter=',')\n",
    "\n",
    "valid_yelp_feat_freq= genfromtxt('./freq_BoW/yelp/valid_yelp_fea_freq.txt', delimiter=',')\n",
    "target_valid_yelp_freq= genfromtxt('./freq_BoW/yelp/target_valid_yelp_freq.txt', delimiter=',')"
   ]
  },
  {
   "cell_type": "code",
   "execution_count": 17,
   "metadata": {
    "collapsed": true
   },
   "outputs": [],
   "source": [
    "training_yelp_feat_freq=np.nan_to_num(training_yelp_feat_freq)\n",
    "test_yelp_feat_freq=np.nan_to_num(test_yelp_feat_freq)"
   ]
  },
  {
   "cell_type": "code",
   "execution_count": 19,
   "metadata": {},
   "outputs": [
    {
     "name": "stdout",
     "output_type": "stream",
     "text": [
      "GaussianNB(priors=None)\n",
      "F-measure Training set_GaussianNB_yelp:\n",
      "0.708270749954\n",
      "F-measure Validation set_GaussianNB_yelp:\n",
      "0.236632262536\n",
      "F-measure test set_GaussianNB_yelp:\n",
      "0.248414035089\n"
     ]
    }
   ],
   "source": [
    "GausNB=GaussianNB()\n",
    "GausNB.fit(training_yelp_feat_freq,target_training_yelp_freq)\n",
    "print (GausNB)\n",
    "\n",
    "Y_out=GausNB.predict(training_yelp_feat_freq)\n",
    "print \"F-measure Training set_GaussianNB_yelp:\"\n",
    "print metrics.f1_score(target_training_yelp_freq, Y_out, average='macro')\n",
    "\n",
    "Y_out=GausNB.predict(valid_yelp_feat_freq)\n",
    "print \"F-measure Validation set_GaussianNB_yelp:\"\n",
    "print metrics.f1_score(target_valid_yelp_freq, Y_out, average='macro')\n",
    "\n",
    "Y_out=GausNB.predict(test_yelp_feat_freq)\n",
    "print \"F-measure test set_GaussianNB_yelp:\"\n",
    "print metrics.f1_score(target_test_yelp_freq, Y_out, average='macro')"
   ]
  },
  {
   "cell_type": "code",
   "execution_count": 2,
   "metadata": {
    "collapsed": true
   },
   "outputs": [],
   "source": [
    "# Load IMDB freqary BOW\n",
    "\n",
    "training_IMDB_feat_freq= genfromtxt('./freq_BoW/IMDB/trainig_IMDB_feat_freq.txt', delimiter=',')\n",
    "target_training_IMDB_freq= genfromtxt('./freq_BoW/IMDB/target_training_IMDB_freq.txt', delimiter=',')"
   ]
  },
  {
   "cell_type": "code",
   "execution_count": 3,
   "metadata": {},
   "outputs": [
    {
     "name": "stdout",
     "output_type": "stream",
     "text": [
      "GaussianNB(priors=None)\n",
      "F-measure Training set_GaussianNB_IMDB:\n",
      "0.847161829919\n"
     ]
    }
   ],
   "source": [
    "GausNB=GaussianNB()\n",
    "GausNB.fit(training_IMDB_feat_freq,target_training_IMDB_freq)\n",
    "print (GausNB)\n",
    "\n",
    "Y_out=GausNB.predict(training_IMDB_feat_freq)\n",
    "print \"F-measure Training set_GaussianNB_IMDB:\"\n",
    "print metrics.f1_score(target_training_IMDB_freq, Y_out, average='macro')"
   ]
  },
  {
   "cell_type": "code",
   "execution_count": 5,
   "metadata": {
    "collapsed": true
   },
   "outputs": [],
   "source": [
    "import cPickle\n",
    "# save the classifier\n",
    "with open('GausNB.pkl', 'wb') as fid:\n",
    "    cPickle.dump(GausNB, fid)    "
   ]
  },
  {
   "cell_type": "code",
   "execution_count": 2,
   "metadata": {},
   "outputs": [
    {
     "name": "stdout",
     "output_type": "stream",
     "text": [
      "F-measure validation set_GaussianNB_IMDB:\n",
      "0.758021931067\n"
     ]
    }
   ],
   "source": [
    "# Load IMDB freqary BOW\n",
    "import cPickle\n",
    "with open('GausNB.pkl', 'rb') as fid:\n",
    "    GausNB = cPickle.load(fid)\n",
    "\n",
    "valid_IMDB_feat_freq= genfromtxt('./freq_BoW/IMDB/valid_IMDB_fea_freq.txt', delimiter=',')\n",
    "target_valid_IMDB_freq= genfromtxt('./freq_BoW/IMDB/target_valid_IMDB_freq.txt', delimiter=',')\n",
    "\n",
    "Y_out=GausNB.predict(valid_IMDB_feat_freq)\n",
    "print \"F-measure validation set_GaussianNB_IMDB:\"\n",
    "print metrics.f1_score(target_valid_IMDB_freq, Y_out, average='macro')"
   ]
  },
  {
   "cell_type": "code",
   "execution_count": null,
   "metadata": {
    "collapsed": true
   },
   "outputs": [],
   "source": [
    "# Load IMDB freqary BOW\n",
    "import cPickle\n",
    "with open('GausNB.pkl', 'rb') as fid:\n",
    "    GausNB = cPickle.load(fid)\n",
    "\n",
    "test_IMDB_feat_freq= genfromtxt('./freq_BoW/IMDB/test_IMDB_feat_freq.txt', delimiter=',')\n",
    "target_test_IMDB_freq= genfromtxt('./freq_BoW/IMDB/target_test_IMDB_freq.txt', delimiter=',')"
   ]
  },
  {
   "cell_type": "code",
   "execution_count": 3,
   "metadata": {},
   "outputs": [
    {
     "name": "stdout",
     "output_type": "stream",
     "text": [
      "F-measure test set_GaussianNB_IMDB:\n",
      "0.704655844138\n"
     ]
    }
   ],
   "source": [
    "Y_out=GausNB.predict(test_IMDB_feat_freq)\n",
    "print \"F-measure test set_GaussianNB_IMDB:\"\n",
    "print metrics.f1_score(target_test_IMDB_freq, Y_out, average='macro')"
   ]
  },
  {
   "cell_type": "code",
   "execution_count": null,
   "metadata": {
    "collapsed": true
   },
   "outputs": [],
   "source": []
  }
 ],
 "metadata": {
  "kernelspec": {
   "display_name": "Python 2",
   "language": "python",
   "name": "python2"
  },
  "language_info": {
   "codemirror_mode": {
    "name": "ipython",
    "version": 2
   },
   "file_extension": ".py",
   "mimetype": "text/x-python",
   "name": "python",
   "nbconvert_exporter": "python",
   "pygments_lexer": "ipython2",
   "version": "2.7.14"
  }
 },
 "nbformat": 4,
 "nbformat_minor": 2
}

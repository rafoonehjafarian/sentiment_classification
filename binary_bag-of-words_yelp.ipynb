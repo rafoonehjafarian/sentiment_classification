{
 "cells": [
  {
   "cell_type": "code",
   "execution_count": 1,
   "metadata": {
    "collapsed": true
   },
   "outputs": [],
   "source": [
    "#Dataset generation\n",
    "import numpy as np\n",
    "from numpy import genfromtxt\n",
    "from numpy.linalg import inv\n",
    "import matplotlib.pyplot as plt\n",
    "from sklearn.utils import shuffle\n",
    "from numpy import genfromtxt"
   ]
  },
  {
   "cell_type": "code",
   "execution_count": 2,
   "metadata": {
    "collapsed": true,
    "scrolled": true
   },
   "outputs": [],
   "source": [
    "import csv\n",
    "import string\n",
    "from string import punctuation\n",
    "def strip_punctuation_lower(s):\n",
    "    s=s.lower()\n",
    "    return ''.join(c for c in s if c not in punctuation)\n",
    "\n",
    "def data_Cleaner(file_name):\n",
    "    vocab=[]\n",
    "    target=[]\n",
    "\n",
    "    with open(file_name,'r') as f:\n",
    "        next(f) # skip headings\n",
    "        reader=csv.reader(f,delimiter='\\t')\n",
    "        for tx,tg in reader:\n",
    "\n",
    "            tx=strip_punctuation_lower(tx)\n",
    "            vocab.append(tx)\n",
    "            target.append(tg) \n",
    "\n",
    "    return vocab,target"
   ]
  },
  {
   "cell_type": "code",
   "execution_count": 3,
   "metadata": {
    "collapsed": true
   },
   "outputs": [],
   "source": [
    "vocab_trainig_yelp, target_training_yelp=data_Cleaner(\"./data/yelp-train.txt\")\n",
    "vocab_valid_yelp, target_valid_yelp=data_Cleaner(\"./data/yelp-valid.txt\")\n",
    "vocab_test_yelp, target_test_yelp=data_Cleaner(\"./data/yelp-test.txt\")\n",
    "\n",
    "#convert to numpy array\n",
    "target_training_yelp=np.asarray(target_training_yelp)\n",
    "target_valid_yelp=np.asarray(target_valid_yelp)\n",
    "target_test_yelp=np.asarray(target_test_yelp)"
   ]
  },
  {
   "cell_type": "code",
   "execution_count": 4,
   "metadata": {
    "collapsed": true
   },
   "outputs": [],
   "source": [
    "import re\n",
    "import string\n",
    "import operator\n",
    "\n",
    "frequency = {}\n",
    "feature_set={}\n",
    "\n",
    "for i in range(len(vocab_trainig_yelp)):\n",
    "    \n",
    "    # Just focus on the words between 3 to 15 letters\n",
    "    match_pattern = re.findall(r'\\b[a-z]{3,15}\\b', vocab_trainig_yelp[i])\n",
    "    \n",
    "    for word in match_pattern:\n",
    "        count = frequency.get(word,0)\n",
    "        frequency[word] = count + 1\n",
    "     \n",
    "    frequency_list = frequency.keys()\n",
    "\n",
    "frequency=sorted(frequency.items(), key=operator.itemgetter(1), reverse=True)\n",
    "\n",
    "feature=frequency[0:10000]\n",
    "\n",
    "for i in range(len(feature)):\n",
    "    feature[i]=list(feature[i])\n",
    "    feature[i].insert(1,i)\n",
    "    feature[i]=tuple(feature[i])"
   ]
  },
  {
   "cell_type": "code",
   "execution_count": 5,
   "metadata": {
    "collapsed": true
   },
   "outputs": [],
   "source": [
    "#save vocab.txt file\n",
    "import pandas as pd\n",
    "my_df = pd.DataFrame(feature)\n",
    "my_df.to_csv('yelp-vocab.txt', index=False, header=False)"
   ]
  },
  {
   "cell_type": "code",
   "execution_count": 6,
   "metadata": {
    "collapsed": true
   },
   "outputs": [],
   "source": [
    "trainig_yelp_feat=np.zeros((len(vocab_trainig_yelp),10000))\n",
    "valid_yelp_feat=np.zeros((len(vocab_valid_yelp),10000))\n",
    "test_yelp_feat=np.zeros((len(vocab_test_yelp),10000))"
   ]
  },
  {
   "cell_type": "code",
   "execution_count": null,
   "metadata": {
    "collapsed": true
   },
   "outputs": [],
   "source": [
    "trainig_yelp_save=[]\n",
    "\n",
    "for i in range(len(vocab_trainig_yelp)):  #over all samples\n",
    "    \n",
    "    A=[]\n",
    "\n",
    "    split=vocab_trainig_yelp[i].split()\n",
    "       \n",
    "    for j in range(len(vocab_trainig_yelp[i].split())): #len of review\n",
    "\n",
    "        for k in range(10000):                      # len of vocabulary\n",
    "            \n",
    "            if feature[k][0]==split[j]:\n",
    "                \n",
    "                trainig_yelp_feat[i,k]=1\n",
    "                A.append(feature[k][1])\n",
    "                \n",
    "    trainig_yelp_save.append(A)\n",
    "    \n",
    "import csv\n",
    "with open('yelp-train.txt', 'w') as f:\n",
    "    writer = csv.writer(f, delimiter='\\t')\n",
    "    writer.writerows(zip(trainig_yelp_save,target_training_yelp))"
   ]
  },
  {
   "cell_type": "code",
   "execution_count": null,
   "metadata": {
    "collapsed": true
   },
   "outputs": [],
   "source": [
    "valid_yelp_save=[]\n",
    "\n",
    "for i in range(len(vocab_valid_yelp)):  #over all samples\n",
    "    \n",
    "    A=[]\n",
    "    \n",
    "    split=vocab_valid_yelp[i].split()\n",
    "       \n",
    "    for j in range(len(vocab_valid_yelp[i].split())): #len of review\n",
    "\n",
    "        for k in range(10000):                      # len of vocabulary\n",
    "            \n",
    "            if feature[k][0]==split[j]:\n",
    "                \n",
    "                valid_yelp_feat[i,k]=1\n",
    "                A.append(feature[k][1])\n",
    "                \n",
    "    valid_yelp_save.append(A)\n",
    "    \n",
    "import csv\n",
    "with open('yelp-valid.txt', 'w') as f:\n",
    "    writer = csv.writer(f, delimiter='\\t')\n",
    "    writer.writerows(zip(valid_yelp_save,target_valid_yelp))\n"
   ]
  },
  {
   "cell_type": "code",
   "execution_count": null,
   "metadata": {
    "collapsed": true
   },
   "outputs": [],
   "source": [
    "test_yelp_save=[]\n",
    "\n",
    "for i in range(len(vocab_test_yelp)):  #over all samples\n",
    "    \n",
    "    A=[]\n",
    "    \n",
    "    split=vocab_test_yelp[i].split()\n",
    "       \n",
    "    for j in range(len(vocab_test_yelp[i].split())): #len of review\n",
    "\n",
    "        for k in range(10000):                      # len of vocabulary\n",
    "            \n",
    "            if feature[k][0]==split[j]:\n",
    "                \n",
    "                test_yelp_feat[i,k]=1\n",
    "                A.append(feature[k][1])\n",
    "                \n",
    "    test_yelp_save.append(A)\n",
    "    \n",
    "import csv\n",
    "with open('yelp-test.txt', 'w') as f:\n",
    "    writer = csv.writer(f, delimiter='\\t')\n",
    "    writer.writerows(zip(test_yelp_save,target_test_yelp))\n"
   ]
  },
  {
   "cell_type": "code",
   "execution_count": 25,
   "metadata": {
    "collapsed": true
   },
   "outputs": [],
   "source": [
    "import pandas as pd\n",
    "my_df = pd.DataFrame(target_training_yelp)\n",
    "my_df.to_csv('target_training_yelp_bin.txt', index=False, header=False)"
   ]
  },
  {
   "cell_type": "code",
   "execution_count": null,
   "metadata": {
    "collapsed": true
   },
   "outputs": [],
   "source": [
    "np.savetxt(\"test_yelp_feat_bin.txt\", test_yelp_feat)\n",
    "np.savetxt(\"target_test_yelp_bin.txt\", target_test_yelp)\n",
    "\n",
    "np.savetxt(\"valid_yelp_feat_bin.txt\", valid_yelp_feat)\n",
    "np.savetxt(\"target_valid_yelp_bin.txt\", target_valid_yelp)\n",
    "\n",
    "np.savetxt(\"trainig_yelp_feat_bin.txt\", trainig_yelp_feat)\n",
    "np.savetxt(\"target_training_yelp_bin.txt\", target_training_yelp)"
   ]
  }
 ],
 "metadata": {
  "kernelspec": {
   "display_name": "Python [default]",
   "language": "python",
   "name": "python2"
  },
  "language_info": {
   "codemirror_mode": {
    "name": "ipython",
    "version": 2
   },
   "file_extension": ".py",
   "mimetype": "text/x-python",
   "name": "python",
   "nbconvert_exporter": "python",
   "pygments_lexer": "ipython2",
   "version": "2.7.14"
  }
 },
 "nbformat": 4,
 "nbformat_minor": 2
}

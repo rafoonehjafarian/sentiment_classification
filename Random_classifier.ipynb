{
 "cells": [
  {
   "cell_type": "code",
   "execution_count": 1,
   "metadata": {
    "collapsed": true
   },
   "outputs": [],
   "source": [
    "import numpy as np\n",
    "from random import randint\n",
    "from numpy import genfromtxt"
   ]
  },
  {
   "cell_type": "code",
   "execution_count": 2,
   "metadata": {
    "collapsed": true
   },
   "outputs": [],
   "source": [
    "target_yelp = genfromtxt('./Bin_BoW/yelp/target_test_yelp_bin.txt', delimiter=',')\n",
    "target_IMDB = genfromtxt('./Bin_BoW/IMDB/target_test_IMDB_bin.txt', delimiter=',')"
   ]
  },
  {
   "cell_type": "code",
   "execution_count": 3,
   "metadata": {
    "collapsed": true
   },
   "outputs": [],
   "source": [
    "yelp_test_examples=target_yelp.size\n",
    "IMDB_test_examples=target_IMDB.size\n",
    "\n",
    "Y_out_yelp=np.zeros(yelp_test_examples)\n",
    "Y_out_IMDB=np.zeros(IMDB_test_examples)"
   ]
  },
  {
   "cell_type": "code",
   "execution_count": 5,
   "metadata": {
    "collapsed": true
   },
   "outputs": [],
   "source": [
    "for i in range(yelp_test_examples):\n",
    "    Y_out_yelp[i]=randint(1,5)\n",
    "    \n",
    "for i in range(IMDB_test_examples):\n",
    "    Y_out_IMDB[i]=randint(0,1)"
   ]
  },
  {
   "cell_type": "code",
   "execution_count": 6,
   "metadata": {},
   "outputs": [
    {
     "name": "stdout",
     "output_type": "stream",
     "text": [
      "F-measure yelp Random Guuss:\n",
      "0.193746918915\n",
      "F-measure IMDB Random Guuss:\n",
      "0.501780042503\n"
     ]
    }
   ],
   "source": [
    "from sklearn import metrics\n",
    "print \"F-measure yelp Random Guuss:\"\n",
    "print metrics.f1_score(Y_out_yelp, target_yelp, average='macro')\n",
    "\n",
    "\n",
    "print \"F-measure IMDB Random Guuss:\"\n",
    "print metrics.f1_score(Y_out_IMDB, target_IMDB, average='macro')"
   ]
  },
  {
   "cell_type": "code",
   "execution_count": null,
   "metadata": {
    "collapsed": true
   },
   "outputs": [],
   "source": []
  }
 ],
 "metadata": {
  "kernelspec": {
   "display_name": "Python 3",
   "language": "python",
   "name": "python3"
  },
  "language_info": {
   "codemirror_mode": {
    "name": "ipython",
    "version": 3
   },
   "file_extension": ".py",
   "mimetype": "text/x-python",
   "name": "python",
   "nbconvert_exporter": "python",
   "pygments_lexer": "ipython3",
   "version": "3.7.4"
  }
 },
 "nbformat": 4,
 "nbformat_minor": 2
}

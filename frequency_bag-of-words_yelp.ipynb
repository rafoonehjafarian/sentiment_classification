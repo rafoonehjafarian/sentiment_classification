{
 "cells": [
  {
   "cell_type": "code",
   "execution_count": 1,
   "metadata": {
    "collapsed": true
   },
   "outputs": [],
   "source": [
    "#Dataset generation\n",
    "import numpy as np\n",
    "from numpy import genfromtxt\n",
    "from numpy.linalg import inv\n",
    "import matplotlib.pyplot as plt\n",
    "from sklearn.utils import shuffle\n",
    "from numpy import genfromtxt"
   ]
  },
  {
   "cell_type": "code",
   "execution_count": 2,
   "metadata": {
    "collapsed": true,
    "scrolled": true
   },
   "outputs": [],
   "source": [
    "import csv\n",
    "import string\n",
    "from string import punctuation\n",
    "def strip_punctuation_lower(s):\n",
    "    s=s.lower()\n",
    "    return ''.join(c for c in s if c not in punctuation)\n",
    "\n",
    "def data_Cleaner(file_name):\n",
    "    vocab=[]\n",
    "    target=[]\n",
    "\n",
    "    with open(file_name,'r') as f:\n",
    "        next(f) # skip headings\n",
    "        reader=csv.reader(f,delimiter='\\t')\n",
    "        for tx,tg in reader:\n",
    "\n",
    "            tx=strip_punctuation_lower(tx)\n",
    "            vocab.append(tx)\n",
    "            target.append(tg) \n",
    "\n",
    "    return vocab,target"
   ]
  },
  {
   "cell_type": "code",
   "execution_count": 3,
   "metadata": {
    "collapsed": true
   },
   "outputs": [],
   "source": [
    "vocab_trainig_yelp, target_training_yelp=data_Cleaner(\"./data/yelp-train.txt\")\n",
    "vocab_valid_yelp, target_valid_yelp=data_Cleaner(\"./data/yelp-valid.txt\")\n",
    "vocab_test_yelp, target_test_yelp=data_Cleaner(\"./data/yelp-test.txt\")\n",
    "\n",
    "#convert to numpy array\n",
    "target_training_yelp=np.asarray(target_training_yelp)\n",
    "target_valid_yelp=np.asarray(target_valid_yelp)\n",
    "target_test_yelp=np.asarray(target_test_yelp)"
   ]
  },
  {
   "cell_type": "code",
   "execution_count": 4,
   "metadata": {
    "collapsed": true
   },
   "outputs": [],
   "source": [
    "import re\n",
    "import string\n",
    "import operator\n",
    "\n",
    "frequency = {}\n",
    "feature_set={}\n",
    "\n",
    "for i in range(len(vocab_trainig_yelp)):\n",
    "    \n",
    "    # Just focus on the words between 3 to 15 \n",
    "    match_pattern = re.findall(r'\\b[a-z]{3,15}\\b', vocab_trainig_yelp[i])\n",
    "    \n",
    "    for word in match_pattern:\n",
    "        count = frequency.get(word,0)\n",
    "        frequency[word] = count + 1\n",
    "     \n",
    "    frequency_list = frequency.keys()\n",
    "\n",
    "frequency=sorted(frequency.items(), key=operator.itemgetter(1), reverse=True)\n",
    "\n",
    "feature=frequency[0:10000]\n",
    "\n",
    "feature_set={}\n",
    "for i in range(len(feature)):\n",
    "    feature_set[i]=feature[i][0]"
   ]
  },
  {
   "cell_type": "code",
   "execution_count": 5,
   "metadata": {
    "collapsed": true
   },
   "outputs": [],
   "source": [
    "trainig_yelp_feat=np.zeros((len(vocab_trainig_yelp),10000),dtype=float)\n",
    "valid_yelp_feat=np.zeros((len(vocab_valid_yelp),10000),dtype=float)\n",
    "test_yelp_feat=np.zeros((len(vocab_test_yelp),10000),dtype=float)"
   ]
  },
  {
   "cell_type": "code",
   "execution_count": 6,
   "metadata": {},
   "outputs": [
    {
     "name": "stderr",
     "output_type": "stream",
     "text": [
      "/home/an80020/anaconda2/lib/python2.7/site-packages/ipykernel_launcher.py:9: RuntimeWarning: invalid value encountered in divide\n",
      "  if __name__ == '__main__':\n"
     ]
    },
    {
     "name": "stdout",
     "output_type": "stream",
     "text": [
      "(6999, 10000)\n"
     ]
    }
   ],
   "source": [
    "for i in range(len(vocab_trainig_yelp)):\n",
    "\n",
    "    for j in range(len(feature_set)):\n",
    "\n",
    "         if feature_set[j] in vocab_trainig_yelp[i]:              \n",
    "                trainig_yelp_feat[i,j]=trainig_yelp_feat[i,j]+1\n",
    "                \n",
    "    total=np.sum(trainig_yelp_feat[i])\n",
    "    trainig_yelp_feat[i,:]=np.divide(trainig_yelp_feat[i,:],total)\n",
    "                \n",
    "print trainig_yelp_feat.shape"
   ]
  },
  {
   "cell_type": "code",
   "execution_count": 7,
   "metadata": {},
   "outputs": [
    {
     "name": "stdout",
     "output_type": "stream",
     "text": [
      "(999, 10000)\n"
     ]
    }
   ],
   "source": [
    "for i in range(len(vocab_valid_yelp)):\n",
    "\n",
    "    for j in range(len(feature_set)):\n",
    "\n",
    "         if feature_set[j] in vocab_valid_yelp[i]:              \n",
    "                valid_yelp_feat[i,j]=valid_yelp_feat[i,j]+1\n",
    "                \n",
    "    total=np.sum(valid_yelp_feat[i])\n",
    "    valid_yelp_feat[i,:]=np.divide(valid_yelp_feat[i,:],total)\n",
    "                \n",
    "print valid_yelp_feat.shape"
   ]
  },
  {
   "cell_type": "code",
   "execution_count": 8,
   "metadata": {},
   "outputs": [
    {
     "name": "stderr",
     "output_type": "stream",
     "text": [
      "/home/an80020/anaconda2/lib/python2.7/site-packages/ipykernel_launcher.py:9: RuntimeWarning: invalid value encountered in divide\n",
      "  if __name__ == '__main__':\n"
     ]
    },
    {
     "name": "stdout",
     "output_type": "stream",
     "text": [
      "(1999, 10000)\n"
     ]
    }
   ],
   "source": [
    "for i in range(len(vocab_test_yelp)):\n",
    "\n",
    "    for j in range(len(feature_set)):\n",
    "\n",
    "         if feature_set[j] in vocab_test_yelp[i]:              \n",
    "                test_yelp_feat[i,j]=test_yelp_feat[i,j]+1\n",
    "                \n",
    "    total=np.sum(test_yelp_feat[i])\n",
    "    test_yelp_feat[i,:]=np.divide(test_yelp_feat[i,:],total)\n",
    "             \n",
    "print test_yelp_feat.shape"
   ]
  },
  {
   "cell_type": "code",
   "execution_count": 9,
   "metadata": {
    "collapsed": true
   },
   "outputs": [],
   "source": [
    "import pandas as pd\n",
    "\n",
    "my_df = pd.DataFrame(test_yelp_feat)\n",
    "my_df.to_csv('test_yelp_feat_freq.txt', index=False, header=False)\n",
    "\n",
    "\n",
    "my_df = pd.DataFrame(target_test_yelp)\n",
    "my_df.to_csv('target_test_yelp_freq.txt', index=False, header=False)\n",
    "\n",
    "\n",
    "my_df = pd.DataFrame(valid_yelp_feat)\n",
    "my_df.to_csv('valid_yelp_fea_freq.txt', index=False, header=False)\n",
    "\n",
    "my_df = pd.DataFrame(target_valid_yelp)\n",
    "my_df.to_csv('target_valid_yelp_freq.txt', index=False, header=False)\n",
    "\n",
    "\n",
    "my_df = pd.DataFrame(trainig_yelp_feat)\n",
    "my_df.to_csv('trainig_yelp_feat_freq.txt', index=False, header=False)\n",
    "\n",
    "\n",
    "my_df = pd.DataFrame(target_training_yelp)\n",
    "my_df.to_csv('target_training_yelp_freq.txt', index=False, header=False)"
   ]
  },
  {
   "cell_type": "code",
   "execution_count": null,
   "metadata": {
    "collapsed": true
   },
   "outputs": [],
   "source": []
  }
 ],
 "metadata": {
  "kernelspec": {
   "display_name": "Python [default]",
   "language": "python",
   "name": "python2"
  },
  "language_info": {
   "codemirror_mode": {
    "name": "ipython",
    "version": 2
   },
   "file_extension": ".py",
   "mimetype": "text/x-python",
   "name": "python",
   "nbconvert_exporter": "python",
   "pygments_lexer": "ipython2",
   "version": "2.7.14"
  }
 },
 "nbformat": 4,
 "nbformat_minor": 2
}
